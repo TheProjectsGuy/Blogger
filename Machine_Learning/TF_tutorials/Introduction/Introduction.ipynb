{
 "cells": [
  {
   "cell_type": "markdown",
   "metadata": {},
   "source": [
    "# Introduction to Tensorflow\n",
    "Tensorflow is a massive open source framework. It's widely used for machine learning mainly because of it's robustness and versatility which means that you write code once and then you can use it on whatever platform supports tensorflow. You can write your code on a less powerful system and train on a system with GPUs.<br>\n",
    "It was developed by Google Brain team on November 2015, and was originally written in Python, C++ and CUDA (wiki link [here](https://en.wikipedia.org/wiki/TensorFlow)). You can visit it's official website [here](https://www.tensorflow.org/). In this tutorial, we'll walk through the installation of the CPU version of TensorFlow and a basic overview.\n",
    "\n",
    "## Installing TensorFlow\n",
    "You can check [this](https://www.tensorflow.org/install/) out, or skim through the steps below\n",
    "### For Linux, macOS and Windows users\n",
    "It's really handy to have python and pip installed, in case you don't, do this\n",
    "- macOS users can get the python installer from [here](https://www.python.org/downloads/mac-osx/). After that open terminal and install `pip` (it must already be installed) \n",
    "- For Linux (Ubuntu recommended) use this command\n",
    "```bash\n",
    "sudo apt install python3-dev python3-pip python-virtualenv\n",
    "```\n",
    "- For Windows, you can install python from [here](https://www.python.org/downloads/release/python-362/)\n",
    "After all this, install tensorflow using *pip*. You can create a virtual environment if you want (source it then).\n",
    "```bash\n",
    "pip install tensorflow\n",
    "```\n",
    "You also have an option to install theough anaconda, but it's not officially supported.\n",
    "### For Raspian (on raspberry pi)\n",
    "Use the same sntructions as _Linux_ users above.\n",
    "\n",
    "For GPU, you can go [here](https://www.tensorflow.org/install/install_linux#tensorflow_gpu_support). But it's suggested that you start with CPU.\n",
    "\n",
    "## Getting started with tensorflow\n",
    "Let's get started with TensorFlow. At it's heart, TensorFlow is actually a numerical library. It's also used for machine learning because of very amazing optimizing algorithms and numerous benefits. <br>\n",
    "You can find some tutorials of TensorFlow on it's official website [here](https://www.tensorflow.org/tutorials/).\n",
    "\n",
    "Let's get started with an introduction code."
   ]
  },
  {
   "cell_type": "code",
   "execution_count": 1,
   "metadata": {},
   "outputs": [],
   "source": [
    "# Importing the library\n",
    "import tensorflow as tf\n",
    "import numpy as np"
   ]
  },
  {
   "cell_type": "markdown",
   "metadata": {},
   "source": [
    "### Normal calculations\n",
    "Here's now you can perform any form of ordinary arithematics (using numpy or even standard python mathematics)."
   ]
  },
  {
   "cell_type": "code",
   "execution_count": 2,
   "metadata": {},
   "outputs": [
    {
     "name": "stdout",
     "output_type": "stream",
     "text": [
      "Standard \n",
      "10 + 20 = 30\n",
      "NumPy \n",
      "[[1 2 3]] + [[5 6 7]] = [[ 6  8 10]]\n"
     ]
    }
   ],
   "source": [
    "# Using standard mathematics\n",
    "a = 10\n",
    "b = 20\n",
    "c = a + b\n",
    "print(\"Standard \\n{0} + {1} = {2}\".format(a, b, c))\n",
    "\n",
    "# Numpy mathematics\n",
    "a = np.array([[1, 2, 3]], np.uint8)\n",
    "b = np.array([[5, 6, 7]], np.uint8)\n",
    "c = np.add(a, b)      # Or, you can use c = a + b, the operators are overridden\n",
    "print(\"NumPy \\n{0} + {1} = {2}\".format(a, b, c))"
   ]
  },
  {
   "cell_type": "markdown",
   "metadata": {},
   "source": [
    "As you can see, these libraries do the calculation instantly and give you the result, let's see how tensorflow does the job. <br>\n",
    "Here's how we declare constants in tensorflow. TensorFlow stores constants inside the datatype `tf.constant`. You can specify quiet a few properties with it. \n",
    "- [tf.constant](https://www.tensorflow.org/api_docs/python/tf/constant) : Declares a constant\n",
    "- [tf.add](https://www.tensorflow.org/api_docs/python/tf/add) : Used to add two tensors. Could use `+` as well. All the basic math functios tensorflow supports are [here](https://www.tensorflow.org/api_guides/python/math_ops#Basic_Math_Functions)"
   ]
  },
  {
   "cell_type": "code",
   "execution_count": 3,
   "metadata": {},
   "outputs": [
    {
     "name": "stdout",
     "output_type": "stream",
     "text": [
      "TensorFlow Implementation\n",
      "   Tensor(\"const_A:0\", shape=(1,), dtype=uint8)\n",
      " + Tensor(\"const_B:0\", shape=(1,), dtype=uint8)\n",
      " = Tensor(\"sum_A_B:0\", shape=(1,), dtype=uint8)\n"
     ]
    }
   ],
   "source": [
    "# Constant in TensorFlow\n",
    "a = tf.constant(6, dtype=tf.uint8, shape=(1, ), name=\"const_A\")\n",
    "b = tf.constant(9, dtype=tf.uint8, shape=(1, ), name=\"const_B\")\n",
    "c = tf.add(a, b, name=\"sum_A_B\")      # Or, you can use c = a + b, the operators are overridden\n",
    "print(\"TensorFlow Implementation\\n   {0}\\n + {1}\\n = {2}\".format(a, b, c))"
   ]
  },
  {
   "cell_type": "markdown",
   "metadata": {},
   "source": [
    "Okay, we don't see the result. We only see some objects with some description. This is how tensorflow works. Wen you write code, you actually write code to the template of the program. It's like drawing stuff on a graph. This graph is called a **Directed Acyclic Graph**. When we print out the value of anything at this stage, it's the nodes information that gets printed (it's name, shape and datatype) and not it's value. This is because the graph is being made, but hasn't been run yet. In order to run the graph and get results, you must start a tensorflow session.\n",
    "\n",
    "### Getting Results\n",
    "TensorFlow keeps implementation and execution separate, it's how it makes itself so hardware versatile. When we initiate the session, we create the graph (it's like every connection in it is spawned). When we execute the graph, we then actually pass data through them. That data is called a **tensor** (an *n* dimensional vector), hence the name TensorFlow (data flowing through nodes in the graph).\n",
    "- [tf.Session](https://www.tensorflow.org/api_docs/python/tf/Session) : A class used to start, monitor and maintain a tensorflow session in order to yield results of calculations.\n",
    "    - [sess.run](https://www.tensorflow.org/api_docs/python/tf/Session#run) : Used to run a node in the graph and return the result."
   ]
  },
  {
   "cell_type": "code",
   "execution_count": 7,
   "metadata": {},
   "outputs": [
    {
     "name": "stdout",
     "output_type": "stream",
     "text": [
      "[6] + [9] = [15]\n"
     ]
    }
   ],
   "source": [
    "# Initiating a session\n",
    "with tf.Session() as sess:\n",
    "    result = sess.run(c)\n",
    "    val_A = sess.run(a)\n",
    "    val_B = sess.run(b)\n",
    "    print(\"{0} + {1} = {2}\".format(val_A, val_B, result))"
   ]
  },
  {
   "cell_type": "markdown",
   "metadata": {},
   "source": [
    "Now we've learnt how to do simple maths using tensorflow, let's try doing some more things.\n",
    "\n",
    "### Placeholders\n",
    "A placeholder is something that is assigned during the runtime. For example, loading data when running a calculation. \n",
    "- [tf.placeholder](https://www.tensorflow.org/api_docs/python/tf/placeholder) : Used to feed in data during the time of execution.\n",
    "\n",
    "As you can see below, the value for the placeholder `a` is not provided until runtime, and it's assigned to an array \\[5, 2\\]. You can describe the shape however you want, if there's `None` in any of the dimensions, then that dimension size is decided at initialization."
   ]
  },
  {
   "cell_type": "code",
   "execution_count": 13,
   "metadata": {},
   "outputs": [
    {
     "name": "stdout",
     "output_type": "stream",
     "text": [
      "[625. 100.]\n"
     ]
    }
   ],
   "source": [
    "a = tf.placeholder(dtype=tf.float16, shape=(None), name=\"placeholder_A\")\n",
    "c = tf.multiply(a, 5, name=\"mul_A_C\")\n",
    "c = tf.pow(c, 2, name=\"pow_C_2\")\n",
    "with tf.Session() as sess:\n",
    "    val = sess.run(c, feed_dict={a:[5, 2]})\n",
    "    print(val)"
   ]
  },
  {
   "cell_type": "markdown",
   "metadata": {},
   "source": [
    "As you can see, this script basically takes an array of numbers at runtime of the session (x) and returns a function performed over it ($y = (5 x)^{2}$)"
   ]
  }
 ],
 "metadata": {
  "kernelspec": {
   "display_name": "Python 3",
   "language": "python",
   "name": "python3"
  },
  "language_info": {
   "codemirror_mode": {
    "name": "ipython",
    "version": 3
   },
   "file_extension": ".py",
   "mimetype": "text/x-python",
   "name": "python",
   "nbconvert_exporter": "python",
   "pygments_lexer": "ipython3",
   "version": "3.5.2"
  }
 },
 "nbformat": 4,
 "nbformat_minor": 2
}
