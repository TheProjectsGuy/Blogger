{
 "cells": [
  {
   "cell_type": "markdown",
   "metadata": {},
   "source": [
    "# Introduction to Tensorflow\n",
    "Tensorflow is a massive open source framework. It's widely used for machine learning mainly because of it's robustness and versatility which means that you write code once and then you can use it on whatever platform supports tensorflow. You can write your code on a less powerful system and train on a system with GPUs.<br>\n",
    "It was developed by Google Brain team on November 2015, and was originally written in Python, C++ and CUDA (wiki link [here](https://en.wikipedia.org/wiki/TensorFlow)). You can visit it's official website [here](https://www.tensorflow.org/). In this tutorial, we'll walk through the installation of the CPU version of TensorFlow and a basic overview.\n",
    "\n",
    "## Installing TensorFlow\n",
    "You can check [this](https://www.tensorflow.org/install/) out, or skim through the steps below\n",
    "### For Linux, macOS and Windows users\n",
    "It's really handy to have python and pip installed, in case you don't, do this (python2.x use `pip`, python3.x use `pip3`)\n",
    "- macOS users can get the python installer from [here](https://www.python.org/downloads/mac-osx/). After that open terminal and install `pip` (it must already be installed) \n",
    "- For Linux (Ubuntu recommended) use this command\n",
    "```bash\n",
    "sudo apt install python3-dev python3-pip python-virtualenv\n",
    "```\n",
    "- For Windows, you can install python from [here](https://www.python.org/downloads/release/python-362/)\n",
    "After all this, install tensorflow using *pip*. You can create a virtual environment if you want (source it then).\n",
    "```bash\n",
    "pip install tensorflow\n",
    "```\n",
    "You also have an option to install theough anaconda, but it's not officially supported.\n",
    "\n",
    "### For Raspian (on raspberry pi)\n",
    "Use the same sntructions as _Linux_ users above.\n",
    "\n",
    "If `pip` doesn't work, try with `pip3` for python3.<br>\n",
    "For GPU, you can go [here](https://www.tensorflow.org/install/install_linux#tensorflow_gpu_support). But it's suggested that you start with CPU.\n",
    "\n",
    "## Getting started with tensorflow\n",
    "Let's get started with TensorFlow. At it's heart, TensorFlow is actually a numerical library. It's also used for machine learning because of very amazing optimizing algorithms and numerous benefits. <br>\n",
    "You can find some tutorials of TensorFlow on it's official website [here](https://www.tensorflow.org/tutorials/).\n",
    "\n",
    "Let's get started with an introduction code."
   ]
  },
  {
   "cell_type": "code",
   "execution_count": 1,
   "metadata": {},
   "outputs": [],
   "source": [
    "# Importing the library\n",
    "import tensorflow as tf\n",
    "import numpy as np"
   ]
  },
  {
   "cell_type": "markdown",
   "metadata": {},
   "source": [
    "### Normal calculations\n",
    "Here's now you can perform any form of ordinary arithematics (using numpy or even standard python mathematics)."
   ]
  },
  {
   "cell_type": "code",
   "execution_count": 2,
   "metadata": {},
   "outputs": [
    {
     "name": "stdout",
     "output_type": "stream",
     "text": [
      "Standard \n",
      "10 + 20 = 30\n",
      "NumPy \n",
      "[[1 2 3]] + [[5 6 7]] = [[ 6  8 10]]\n"
     ]
    }
   ],
   "source": [
    "# Using standard mathematics\n",
    "a = 10\n",
    "b = 20\n",
    "c = a + b\n",
    "print(\"Standard \\n{0} + {1} = {2}\".format(a, b, c))\n",
    "\n",
    "# Numpy mathematics\n",
    "a = np.array([[1, 2, 3]], np.uint8)\n",
    "b = np.array([[5, 6, 7]], np.uint8)\n",
    "c = np.add(a, b)      # Or, you can use c = a + b, the operators are overridden\n",
    "print(\"NumPy \\n{0} + {1} = {2}\".format(a, b, c))"
   ]
  },
  {
   "cell_type": "markdown",
   "metadata": {},
   "source": [
    "As you can see, these libraries do the calculation instantly and give you the result, let's see how tensorflow does the job. <br>\n",
    "\n",
    "## TensorFlow Implementation\n",
    "Here's how we declare constants in tensorflow. TensorFlow stores constants inside the datatype `tf.constant`. You can specify quiet a few properties with it. \n",
    "- [tf.constant](https://www.tensorflow.org/api_docs/python/tf/constant) : Declares a constant\n",
    "- [tf.add](https://www.tensorflow.org/api_docs/python/tf/add) : Used to add two tensors. Could use `+` as well. All the basic math functios tensorflow supports are [here](https://www.tensorflow.org/api_guides/python/math_ops#Basic_Math_Functions). Keep in mind that all the arithematic operations are element wise functions, so if you pass them an array, they apply the function elementwise."
   ]
  },
  {
   "cell_type": "code",
   "execution_count": 3,
   "metadata": {},
   "outputs": [
    {
     "name": "stdout",
     "output_type": "stream",
     "text": [
      "TensorFlow Implementation\n",
      "   Tensor(\"const_A:0\", shape=(1,), dtype=uint8)\n",
      " + Tensor(\"const_B:0\", shape=(1,), dtype=uint8)\n",
      " = Tensor(\"sum_A_B:0\", shape=(1,), dtype=uint8)\n"
     ]
    }
   ],
   "source": [
    "# Constant in TensorFlow\n",
    "a = tf.constant(6, dtype=tf.uint8, shape=(1, ), name=\"const_A\")\n",
    "b = tf.constant(9, dtype=tf.uint8, shape=(1, ), name=\"const_B\")\n",
    "c = tf.add(a, b, name=\"sum_A_B\")      # Or, you can use c = a + b, the operators are overridden\n",
    "print(\"TensorFlow Implementation\\n   {0}\\n + {1}\\n = {2}\".format(a, b, c))"
   ]
  },
  {
   "cell_type": "markdown",
   "metadata": {},
   "source": [
    "Okay, we don't see the result. We only see some objects with some description. This is how tensorflow works. Wen you write code, you actually write code to the template of the program. It's like drawing stuff on a graph. This graph is called a **Directed Acyclic Graph**. When we print out the value of anything at this stage, it's the nodes information that gets printed (it's name, shape and datatype) and not it's value. This is because the graph is being made, but hasn't been run yet. In order to run the graph and get results, you must start a tensorflow session.\n",
    "\n",
    "### Getting Results\n",
    "TensorFlow keeps implementation and execution separate, it's how it makes itself so hardware versatile. When we initiate the session, we create the graph (it's like every connection in it is spawned). When we execute the graph, we then actually pass data through them. That data is called a **tensor** (an *n* dimensional vector), hence the name TensorFlow (data flowing through nodes in the graph).\n",
    "- [tf.Session](https://www.tensorflow.org/api_docs/python/tf/Session) : A class used to start, monitor and maintain a tensorflow session in order to yield results of calculations.\n",
    "    - [sess.run](https://www.tensorflow.org/api_docs/python/tf/Session#run) : Used to run a node in the graph and return the result."
   ]
  },
  {
   "cell_type": "code",
   "execution_count": 4,
   "metadata": {},
   "outputs": [
    {
     "name": "stdout",
     "output_type": "stream",
     "text": [
      "[6] + [9] = [15]\n"
     ]
    }
   ],
   "source": [
    "# Initiating a session\n",
    "with tf.Session() as sess:\n",
    "    result = sess.run(c)\n",
    "    val_A = sess.run(a)\n",
    "    val_B = sess.run(b)\n",
    "    print(\"{0} + {1} = {2}\".format(val_A, val_B, result))"
   ]
  },
  {
   "cell_type": "markdown",
   "metadata": {},
   "source": [
    "Now we've learnt how to do simple maths using tensorflow, let's try doing some more things.\n",
    "\n",
    "### Placeholders\n",
    "A placeholder is something that is assigned during the runtime. For example, loading data when running a calculation. \n",
    "- [tf.placeholder](https://www.tensorflow.org/api_docs/python/tf/placeholder) : Used to keep place for feeding in data during the time of execution.\n",
    "\n",
    "As you can see below, the value for the placeholder `a` is not provided until runtime, and it's assigned to an array \\[5, 2\\]. You can describe the shape however you want, if there's `None` in any of the dimensions, then that dimension size is decided at initialization."
   ]
  },
  {
   "cell_type": "code",
   "execution_count": 5,
   "metadata": {},
   "outputs": [
    {
     "name": "stdout",
     "output_type": "stream",
     "text": [
      "[625. 100.]\n"
     ]
    }
   ],
   "source": [
    "a = tf.placeholder(dtype=tf.float16, shape=(None), name=\"placeholder_A\")\n",
    "c = tf.multiply(a, 5, name=\"mul_A_C\")\n",
    "c = tf.pow(c, 2, name=\"pow_C_2\")\n",
    "with tf.Session() as sess:\n",
    "    val = sess.run(c, feed_dict={a:[5, 2]})\n",
    "    print(val)"
   ]
  },
  {
   "cell_type": "markdown",
   "metadata": {},
   "source": [
    "As you can see, this script basically takes an array of numbers at runtime of the session (x) and returns a function performed over it ($y = (5 x)^{2}$). The part to note here is that, you provide the value of *a* when you're running the session. Until that point, tensorflow knows that *a* is a variable of any shape.\n",
    "\n",
    "### Making tensors from regular data\n",
    "You have seen how we declare constants and placeholders, but what if you have some data that needs to be converted to a tensor. Tensorflow has a function to do just that.\n",
    "- [tf.convert_to_tensor](https://www.tensorflow.org/api_docs/python/tf/convert_to_tensor) : Used to convert any recognized datatype to a tensor."
   ]
  },
  {
   "cell_type": "code",
   "execution_count": 6,
   "metadata": {},
   "outputs": [
    {
     "name": "stdout",
     "output_type": "stream",
     "text": [
      "Data : \n",
      "[[ 1  2  3  4  5]\n",
      " [ 6  7  8  9 10]]\n",
      "Shape : (2, 5)\n",
      "Data converted into a tensor : Tensor(\"Tensor_A:0\", shape=(2, 5), dtype=int64)\n"
     ]
    }
   ],
   "source": [
    "# A NumPy array of some shape (2,5)\n",
    "a = np.array([[1, 2, 3, 4, 5],[6, 7, 8, 9, 10]])\n",
    "print(\"Data : \\n{0}\\nShape : {1}\".format(a, a.shape))\n",
    "# Converting to TensorFlow tensor\n",
    "a_tensor = tf.convert_to_tensor(a, name=\"Tensor_A\")\n",
    "print(\"Data converted into a tensor : {0}\".format(a_tensor))"
   ]
  },
  {
   "cell_type": "markdown",
   "metadata": {},
   "source": [
    "As you can observe, it also infers the type of data on it's own. Just change one of the numbers in the array `a` to a floating point number (such as 9.0 or 8.2) and see the resultant type change.\n",
    "\n",
    "### Variables\n",
    "A tensorflow variable is used to usually represent the result of an equation. It is also very useful when it comes to optimization. It is just like a mathematical variable.\n",
    "- [tf.Variable](https://www.tensorflow.org/api_docs/python/tf/Variable) : Used to declare TensorFlow variables\n",
    "\n",
    "As you might observe below, you have to initialize variables in the scope of the session when you start it in order to use them. You might find `tf.initialize_all_variables` at some places, it's suggested not to use it since it's depricated. Use `global_variables_initializer` instead.\n",
    "- [tf.global_variables_initializer](https://www.tensorflow.org/api_docs/python/tf/global_variables_initializer) : Used to initialize the global variables for tensorflow to use.\n",
    "\n",
    "Below, we use *Variable* with *constant* and *placeholder* (which we have already seen above). Let's see how both methods work. "
   ]
  },
  {
   "cell_type": "code",
   "execution_count": 7,
   "metadata": {},
   "outputs": [
    {
     "name": "stdout",
     "output_type": "stream",
     "text": [
      "Y = 15.0\n"
     ]
    }
   ],
   "source": [
    "# Constant\n",
    "x = tf.constant(6, dtype=tf.float32, name=\"X_value\")\n",
    "# Variable depending upon constant\n",
    "y = tf.Variable(x + 9, dtype=tf.float32, name=\"Variable_Y\")\n",
    "# Initializer\n",
    "model = tf.global_variables_initializer()\n",
    "with tf.Session() as sess:\n",
    "    # Run the initializer\n",
    "    sess.run(model)\n",
    "    # Get the value of Variable_Y\n",
    "    print(\"Y = {}\".format(sess.run(y)))"
   ]
  },
  {
   "cell_type": "markdown",
   "metadata": {},
   "source": [
    "Now we try how placeholders and variables go together (run the cell below only once to avoid memory conflicts). Additionally, we see the use of another function\n",
    "- [tf.initializers.variables](https://www.tensorflow.org/api_docs/python/tf/variables_initializer) : Initialize only the given list of varables."
   ]
  },
  {
   "cell_type": "code",
   "execution_count": 8,
   "metadata": {},
   "outputs": [
    {
     "name": "stdout",
     "output_type": "stream",
     "text": [
      "[10.]\n"
     ]
    }
   ],
   "source": [
    "# Placeholder\n",
    "trial_w = tf.placeholder(dtype=tf.float32, shape=(1,), name=\"Placeholder_W\")\n",
    "# Variable\n",
    "trial_v = tf.Variable(trial_w * 2, dtype=tf.float32, name=\"Variable_V\")\n",
    "# Initializer\n",
    "model = tf.initializers.variables([trial_v])\n",
    "with tf.Session() as sess:\n",
    "    # Run the initializer with the given value of Placeholder_W\n",
    "    sess.run(model, feed_dict={trial_w : [5]})\n",
    "    # Get the value of Variable_V\n",
    "    print(sess.run(trial_v))"
   ]
  },
  {
   "cell_type": "markdown",
   "metadata": {},
   "source": [
    "As you can see, the placeholder is given initial value only when the variable initializer is called and not when we actually need to get the value of the variable. This raises confusion many times and is used less often compared to previous method (going with constants).\n",
    "\n",
    "## Conclusion\n",
    "So these are the bare bones basics of TensorFlow. See you guys in the next tutorial.\n",
    "\n",
    "### TensorBoard\n",
    "Another important part of tensorflow is tensorboard, you can check [this](./Introduction_TensorBoard.ipynb) notebook out for a quick introduction to tensorboard."
   ]
  }
 ],
 "metadata": {
  "kernelspec": {
   "display_name": "Python 3",
   "language": "python",
   "name": "python3"
  },
  "language_info": {
   "codemirror_mode": {
    "name": "ipython",
    "version": 3
   },
   "file_extension": ".py",
   "mimetype": "text/x-python",
   "name": "python",
   "nbconvert_exporter": "python",
   "pygments_lexer": "ipython3",
   "version": "3.5.2"
  }
 },
 "nbformat": 4,
 "nbformat_minor": 2
}
