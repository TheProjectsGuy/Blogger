{
 "cells": [
  {
   "cell_type": "markdown",
   "metadata": {},
   "source": [
    "# Installing OpenCV\n",
    "To install OpenCV, you can do either of the two things, install using pip, or install from source. In order to install using pip, the simple command is below\n",
    "\n",
    "## Installing OpenCV using pip\n",
    "You might want to install this into a virtual environment (to keep it separate from everything on your system). You can install it using pip (for python2.x, try pip3 for python3.x)\n",
    "```bash\n",
    "pip install virtualenv\n",
    "```\n",
    "Now, create a virtual environment for the package (you can do it in a folder named *.virtualenvs*.\n",
    "```bash\n",
    "virtualenv -p python3 cv\n",
    "```\n",
    "Source the activation file once the environment is created (you must see the command line or terminal start with `(cv)`). In case you want to source it later, use the following command\n",
    "```bash\n",
    "source ~/.virtualenvs/cv/bin/activate\n",
    "```\n",
    "Now, you can install OpenCV using pip<br>\n",
    "For python2.x\n",
    "```bash\n",
    "pip install opencv-python opencv-contrib-python\n",
    "```\n",
    "For python3.x\n",
    "```bash\n",
    "pip3 install opencv-python opencv-contrb-python\n",
    "```\n",
    "In order to test this, check out the last cell of this notebook.<br>\n",
    "To deactivate the virtual environment, simply use the `deactivate` command.<br>\n",
    "The above will install all the basic utilities in OpenCV. However, if you want to explore more advanced features, you must install from source."
   ]
  },
  {
   "cell_type": "markdown",
   "metadata": {},
   "source": [
    "## Installing OpenCV from source\n",
    "Okay, you've decided to install opencv from source. This notebook is to guide you in doing so, make sure that you have an active internet connection while you're running package installations (because they're downloaded from web). This notebook is for installation on **Ubuntu**. Here are the commands required (and their description).\n",
    "\n",
    "Firstly, switch over to the default python interpretor (system interpretor). If you have anaconda or any software that has it's own python, you must comment out the code contribution made by it in the *.bashrc* file. Just open the file **.bashrc** and comment the last few lines that add things to path variable (it probably was added by the software during installation). For example, if you have anaconda installed, do the following\n",
    "```bash\n",
    "sudo nano ~/.bashrc\n",
    "```\n",
    "Go to the bottom and comment the line after `# added by Anaconda3 installer`. \n",
    "![Anaconda installation](pre_installation.png \"Anaconda installation\")\n",
    "Then press `^X` to exit nano and press `y` to save. After that, you must either restart terminal or source the `.bashrc` file.\n",
    "Just type \n",
    "```bash\n",
    "source ~/.bashrc\n",
    "```\n",
    "After that, run the script\n",
    "```bash\n",
    "which python\n",
    "which python3\n",
    "```\n",
    "The output must be something like \n",
    "```bash\n",
    "/usr/bin/python\n",
    "/usr/bin/python3\n",
    "```\n",
    "\n",
    "## Required Dependencies \n",
    "The following will be required for installation of OpenCV\n",
    "- cmake : To configure the make and to install \n",
    "- python-dev : For a python installation\n",
    "- gcc : Because libraries are made in C++\n",
    "\n",
    "I've used the `-y` tag to automatically give the permission to install, you can ignore it if you want to confirm and check everything on each and every step.\n",
    "Here are the commands, just open a terminal and copy paste them. Do not care about the `%%bash`, it's just for this notebook and plays no role."
   ]
  },
  {
   "cell_type": "code",
   "execution_count": null,
   "metadata": {},
   "outputs": [],
   "source": [
    "%%bash\n",
    "sudo apt install -y cmake\n",
    "sudo apt install -y python-dev python3-dev\n",
    "sudo apt install -y gcc"
   ]
  },
  {
   "cell_type": "markdown",
   "metadata": {},
   "source": [
    "## Supporting Dependencies\n",
    "\n",
    "Now that you have installed the core components, you will need to install some files to support additional functionality. Here are the packages\n",
    "- gtk : GUI features\n",
    "- libv4l : Camera support\n",
    "- ffmpeg : Media support\n",
    "- gstreamer : Media support\n",
    "\n"
   ]
  },
  {
   "cell_type": "code",
   "execution_count": null,
   "metadata": {},
   "outputs": [],
   "source": [
    "%%bash\n",
    "sudo apt install -y gtk2.0\n",
    "sudo apt install -y libv4l-dev\n",
    "sudo apt install -y ffmpeg\n",
    "sudo apt install -y gstreamer1.0-plugins-base"
   ]
  },
  {
   "cell_type": "markdown",
   "metadata": {},
   "source": [
    "### Installing Numpy\n",
    "Install pip and numpy for python 2.x and python 3.x using the following commands"
   ]
  },
  {
   "cell_type": "code",
   "execution_count": null,
   "metadata": {},
   "outputs": [],
   "source": [
    "%%bash\n",
    "sudo apt install python3-pip\n",
    "sudo apt install python-pip\n",
    "pip install numpy\n",
    "pip3 install numpy"
   ]
  },
  {
   "cell_type": "markdown",
   "metadata": {},
   "source": [
    "## Installing optional dependencies\n",
    "These dependencies are for handling image formats. Most of these are already installed on modern versions of Ubuntu, but still it's suggested that you install them now (to avoid trouble later)."
   ]
  },
  {
   "cell_type": "code",
   "execution_count": null,
   "metadata": {},
   "outputs": [],
   "source": [
    "%%bash\n",
    "sudo apt install -y libpng-dev\n",
    "sudo apt install -y libjpeg-dev\n",
    "sudo apt install -y jasper\n",
    "sudo apt install -y openexr\n",
    "sudo apt install -y libtiff-dev\n",
    "sudo apt install -y libwebp-dev\n",
    "sudo apt install -y gstreamer1.0-opencv\n",
    "sudo apt install -y ffmpegthumbnailer ffmpegthumbs\n",
    "sudo apt install -y gphoto2 gphotofs"
   ]
  },
  {
   "cell_type": "markdown",
   "metadata": {},
   "source": [
    "## Installing git and cloning the repository\n",
    "The opencv github repository is [here](https://github.com/opencv/opencv). You can install git and clone the repository somewhere on your system. You can use tools such as Wget, but git is more professional."
   ]
  },
  {
   "cell_type": "code",
   "execution_count": null,
   "metadata": {},
   "outputs": [],
   "source": [
    "%%bash\n",
    "sudo apt install -y git\n",
    "git clone https://github.com/opencv/opencv.git"
   ]
  },
  {
   "cell_type": "markdown",
   "metadata": {},
   "source": [
    "This will clone the contents of the entire repository into the *opencv* folder\n",
    "\n",
    "## Building the configuration file\n",
    "Now we need to build the configuration files and start the make process. First, make a folder named *build* inside the cloned project, change path into it and then run cmake with the entire project folder. Simply put, run these instructions.\n"
   ]
  },
  {
   "cell_type": "code",
   "execution_count": null,
   "metadata": {},
   "outputs": [],
   "source": [
    "%%bash\n",
    "cd opencv\n",
    "mkdir build\n",
    "cd build\n",
    "cmake ../"
   ]
  },
  {
   "cell_type": "markdown",
   "metadata": {},
   "source": [
    "After this, you must see an output showing python2 and python3 installations (the final lines will show path to interpreter and numpy)\n",
    "![Python interpreter](cmake_solutions.png \"CMake output\")\n",
    "\n",
    "## Make and install\n",
    "Now, let's make and install the opencv installation. This is done using the `make` command"
   ]
  },
  {
   "cell_type": "code",
   "execution_count": null,
   "metadata": {},
   "outputs": [],
   "source": [
    "%%bash\n",
    "make\n",
    "sudo make install"
   ]
  },
  {
   "cell_type": "markdown",
   "metadata": {},
   "source": [
    "## Testing your OpenCV installation\n",
    "Let's test our opencv installation by running the following in the python IDLE or in a terminal enter *python*."
   ]
  },
  {
   "cell_type": "code",
   "execution_count": null,
   "metadata": {},
   "outputs": [],
   "source": [
    "import cv2 as cv\n",
    "print(cv.__version__)"
   ]
  },
  {
   "cell_type": "markdown",
   "metadata": {},
   "source": [
    "The output must be something like this\n",
    "![Python 2 output](Python2Output.png \"Python 2 output\")\n",
    "This confirms that you have successfully installed OpenCV"
   ]
  }
 ],
 "metadata": {
  "kernelspec": {
   "display_name": "Python 3",
   "language": "python",
   "name": "python3"
  },
  "language_info": {
   "codemirror_mode": {
    "name": "ipython",
    "version": 3
   },
   "file_extension": ".py",
   "mimetype": "text/x-python",
   "name": "python",
   "nbconvert_exporter": "python",
   "pygments_lexer": "ipython3",
   "version": "3.5.2"
  }
 },
 "nbformat": 4,
 "nbformat_minor": 2
}
