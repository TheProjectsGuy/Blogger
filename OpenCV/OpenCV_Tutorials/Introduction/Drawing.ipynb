{
 "cells": [
  {
   "cell_type": "markdown",
   "metadata": {},
   "source": [
    "# Introduction\n",
    "Here, we'll explore how to make basic figures on an image. I'd suggest that you go through the previous tutorial [here](./Video_Handling.ipynb) so that we're all on the same level here.\n",
    "\n",
    "## Making shapes on Images\n",
    "Here, you'll learn how to draw primitive shapes like lines, rectangles, and circles onto images. We'll later in this tutorial learn how to add text as well.\n",
    "\n",
    "Let's start with importing the libraries"
   ]
  },
  {
   "cell_type": "code",
   "execution_count": 1,
   "metadata": {},
   "outputs": [],
   "source": [
    "import cv2 as cv             # Main library\n",
    "import numpy as np           # For maths (if needed)\n",
    "from matplotlib import pyplot as plt    # For viewing images inside the notebook"
   ]
  },
  {
   "cell_type": "markdown",
   "metadata": {},
   "source": [
    "Let's define an empty blank image on which we will practice all drawing. Note that you can apply the same functionalities to an image as well. Let's define a white image having 480 rows and 640 columns with three channels (B, G and R). We could call this a 640 by 480 white canvas.\n",
    "- [np.ones](https://docs.scipy.org/doc/numpy/reference/generated/numpy.ones.html): Used to define a matrice consisting of only 1s."
   ]
  },
  {
   "cell_type": "code",
   "execution_count": 2,
   "metadata": {},
   "outputs": [],
   "source": [
    "img = np.ones((480, 640, 3), dtype=np.uint8) * 255 # A white image (all pixels have (255, 255, 255) which is white).\n",
    "# Show the image\n",
    "cv.imshow(\"White image\", img)\n",
    "# Press any key to continue\n",
    "cv.waitKey(0)\n",
    "# Destroy the recently created window\n",
    "cv.destroyWindow(\"White image\")"
   ]
  },
  {
   "cell_type": "markdown",
   "metadata": {},
   "source": [
    "### Lines\n",
    "Let's see how to make a simple line on an image. A line basically needs 4 independent values, they could be 2 coordinate values and one angle and other length *or* the coordinates of the starting and ending points. In opencv, these four value are the coordinates of the two points (starting and ending) in the cartesian system. We use the `cv.line` function to make a line. Pass it the image that you'll be drawing on, starting and ending points, color, thickness, [line type](https://docs.opencv.org/3.4.0/d0/de1/group__core.html#gaf076ef45de481ac96e0ab3dc2c29a777) and other properties. \n",
    "\n",
    "One important thing to note is that though the function returns an image with the line made on it, it actually makes the line on the passed image as well. So it's best to pass a copy of the image rather than the actual image to the function.\n",
    "- [cv.line](https://docs.opencv.org/3.4.0/d6/d6e/group__imgproc__draw.html#ga7078a9fae8c7e7d13d24dac2520ae4a2): Used to draw a line"
   ]
  },
  {
   "cell_type": "code",
   "execution_count": 3,
   "metadata": {},
   "outputs": [],
   "source": [
    "starting = (10, 100)   # starting point: 10 on X axis and 100 on Y axis\n",
    "ending = (600, 400)    # ending point: 600 on X axis and 400 on Y axis\n",
    "color = (255, 0, 0)    # color of the line\n",
    "thk = 2                # thickness of the line (must be integer)\n",
    "img2 = cv.line(img.copy(), starting, ending, color, thickness=thk)  # Make the line on the copy of the main image\n",
    "# Display the results\n",
    "cv.imshow(\"Line on image\", img2)\n",
    "# Press any key to close window\n",
    "cv.waitKey(0)\n",
    "cv.destroyAllWindows()"
   ]
  },
  {
   "cell_type": "markdown",
   "metadata": {},
   "source": [
    "### Rectangles\n",
    "A rectangle is just four perpendicular lines in an image. You need to pass OpenCV the top left corner of the rectangle and the bottom right corner of the rectangle (or the corner points of either of the two diagonals) to make a rectangle. We use `cv.rectangle` for this. Just pass it the image, two corner points, color and thickness (optional).\n",
    "- [cv.rectangle](https://docs.opencv.org/3.4.0/d6/d6e/group__imgproc__draw.html#ga07d2f74cadcf8e305e810ce8eed13bc9): Used to make a rectangle"
   ]
  },
  {
   "cell_type": "code",
   "execution_count": 4,
   "metadata": {},
   "outputs": [],
   "source": [
    "P1 = (20, 100)     # First corner of diagonal\n",
    "P2 = (630, 470)    # Second corner of diagonal\n",
    "color = (0, 0, 255)  # Color of rectangle\n",
    "thk = 2              # Thickness of the lines\n",
    "img2 = cv.rectangle(img.copy(), P1, P2, color, thk)   # Make a rectangle\n",
    "# View the results and press a key to close window\n",
    "cv.imshow(\"Rectangle on image\", img2)\n",
    "cv.waitKey(0)\n",
    "cv.destroyAllWindows()"
   ]
  },
  {
   "cell_type": "markdown",
   "metadata": {},
   "source": [
    "### Circles\n",
    "A circle is defined by 3 numbers, two numbers for center and one for radius of the circle. We use `cv.circle` for this. Pass it the image, center, radius, color and thickness (optional).\n",
    "- [cv.circle](https://docs.opencv.org/3.4.0/d6/d6e/group__imgproc__draw.html#gaf10604b069374903dbd0f0488cb43670): Used to draw a circle in OpenCV"
   ]
  },
  {
   "cell_type": "code",
   "execution_count": 5,
   "metadata": {},
   "outputs": [],
   "source": [
    "center = (300, 240)    # Center of circle\n",
    "radius = 140           # Radius of circle\n",
    "color = (0, 255, 0)    # Color of circle\n",
    "thk = 2                # Thickness of circle\n",
    "img2 = cv.circle(img.copy(), center, radius, color, thk)   # Make circle on a copy of img\n",
    "# View the results and press a key to close window\n",
    "cv.imshow(\"Circle on image\", img2)\n",
    "cv.waitKey(0)\n",
    "cv.destroyAllWindows()"
   ]
  },
  {
   "cell_type": "markdown",
   "metadata": {},
   "source": [
    "### Ellipse\n",
    "An ellipse looks like a squished circle. It has a major axis and minor axis.\n",
    "![Ellipse](ellipse_img.png \"An ellipse\")\n",
    "We use `cv.ellipse` to draw an ellipse. Just pass it the image, center, axes lengths (semi major and semi minor), angle of tilt to the entire ellipse, starting drawing angle and ending drawing angle (keep in mind that angles in OpenCV are measured clockwise), color of ellipse and thickness of stroke. You can see the image below for more information\n",
    "![Ellipse parameters](ellipse_params.png \"Parameters of ellipse\")\n",
    "- [cv.ellipse](https://docs.opencv.org/3.4.0/d6/d6e/group__imgproc__draw.html#ga28b2267d35786f5f890ca167236cbc69): Used to draw an ellipse"
   ]
  },
  {
   "cell_type": "code",
   "execution_count": 10,
   "metadata": {},
   "outputs": [],
   "source": [
    "center = (300, 240)        # Center of ellipse\n",
    "smaj = 100                 # Semi major axis\n",
    "smin = 50                  # Semi minor axis\n",
    "axes = (smaj, smin)        # Axes of the ellipse\n",
    "angle = 0                  # Angle of tile to the entire ellipse\n",
    "sa = 0                     # Starting angle of ellipse\n",
    "ea = -90                   # Ending angle of ellipse\n",
    "thk = 2                    # Thickness of line\n",
    "color = (255, 0, 0)        # Color of line\n",
    "# Make ellipse on a copy of canvas\n",
    "img2 = cv.ellipse(img.copy(), center, axes, angle, sa, ea, color, thickness=thk)   \n",
    "# Show the result and press any key to close window\n",
    "cv.imshow(\"Ellipse on image\", img2)\n",
    "cv.waitKey(0)\n",
    "cv.destroyAllWindows()"
   ]
  },
  {
   "cell_type": "markdown",
   "metadata": {},
   "source": [
    "### Polylines\n",
    "Polylines are basically multiple connected lines drawn one after another. In OpenCV, the function that makes polylines is `cv.polylines`. Pass it the image, array of points, closed condition, color of lines, thickness.<br>\n",
    "**Array of points**: This is basically a N x 1 x 2 array of points, where N is the number of points. Every point is basically in an array. We'll see this in more detail while coding.<br>\n",
    "**Closed condition**: If you want to finally close the figure (true) or keep it open (false).<br>\n",
    "Below, I've shown how to make something like a dialog box.\n",
    "- [cv.polylines](https://docs.opencv.org/3.4.0/d6/d6e/group__imgproc__draw.html#gaa3c25f9fb764b6bef791bf034f6e26f5): Used to draw polylines and closed polygons."
   ]
  },
  {
   "cell_type": "code",
   "execution_count": 18,
   "metadata": {},
   "outputs": [
    {
     "name": "stdout",
     "output_type": "stream",
     "text": [
      "Points are \n",
      "[[[ 10  60]]\n",
      "\n",
      " [[ 10   5]]\n",
      "\n",
      " [[200   5]]\n",
      "\n",
      " [[200  60]]\n",
      "\n",
      " [[300 300]]]\n"
     ]
    }
   ],
   "source": [
    "pts = np.array([[10, 60], [10, 5], [200, 5], [200, 60], [300, 300]]) # Array of points\n",
    "pts = pts.reshape((-1, 1, 2))            # Reshape the array into to shape N x 1 x 2\n",
    "print(\"Points are \\n{}\".format(pts))        # Just print them out\n",
    "color = (0, 255, 255)                    # Color of the line\n",
    "thk = 2                                  # Thickness of the line\n",
    "closed = True                            # Close the figure (True)\n",
    "# Make the polylines on a copy of the canvas\n",
    "img2 = cv.polylines(img.copy(), [pts], closed, color, thickness=thk)\n",
    "# View the result and press a key to close window\n",
    "cv.imshow(\"Polylines on image\", img2)\n",
    "cv.waitKey(0)\n",
    "cv.destroyAllWindows()"
   ]
  },
  {
   "cell_type": "markdown",
   "metadata": {},
   "source": [
    "## Try the following\n",
    "I suggest that you try the following before moving forward\n",
    "<br><input type=\"checkbox\"> Try setting thickness = -1 for all the figures above\n",
    "<br><input type=\"checkbox\"> Try out different colors for the figures above\n",
    "<br><input type=\"checkbox\"> Try out different angle of tilt, starting angle and ending angle values for the ellipse.\n",
    "<br><input type=\"checkbox\"> Try what happens if the figure is closed and you give a thickness of -1."
   ]
  }
 ],
 "metadata": {
  "kernelspec": {
   "display_name": "Python 3",
   "language": "python",
   "name": "python3"
  },
  "language_info": {
   "codemirror_mode": {
    "name": "ipython",
    "version": 3
   },
   "file_extension": ".py",
   "mimetype": "text/x-python",
   "name": "python",
   "nbconvert_exporter": "python",
   "pygments_lexer": "ipython3",
   "version": "3.5.2"
  }
 },
 "nbformat": 4,
 "nbformat_minor": 2
}
