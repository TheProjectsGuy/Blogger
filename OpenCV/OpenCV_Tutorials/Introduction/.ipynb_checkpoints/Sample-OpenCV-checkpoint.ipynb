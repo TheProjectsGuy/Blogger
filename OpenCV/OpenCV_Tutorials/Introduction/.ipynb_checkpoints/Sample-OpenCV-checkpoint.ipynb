{
 "cells": [
  {
   "cell_type": "markdown",
   "metadata": {},
   "source": [
    "# OpenCV Startup Guide\n",
    "\n",
    "This tutorial teaches you how to use the basics of OpenCV, after this tutorial you'll be able to do the following\n",
    "- Read and view images from disk\n",
    "- Learn basic color transformations on images\n",
    "\n",
    "I would suggest that you first download this entire notebook (and associated files) using [this](https://minhaskamal.github.io/DownGit/#/home?url=https://github.com/TheProjectsGuy/Blogger/tree/master/OpenCV/OpenCV_Tutorials/Introduction) link and then run the individual cells.\n",
    "\n",
    "## How to import the opencv library\n",
    "\n",
    "To import opencv library, use the command\n",
    "```python\n",
    "import cv2 as cv\n",
    "```\n",
    "This will import the opencv library"
   ]
  },
  {
   "cell_type": "code",
   "execution_count": null,
   "metadata": {},
   "outputs": [],
   "source": [
    "# Import statements\n",
    "import cv2 as cv\n",
    "import numpy as np\n",
    "from matplotlib import pyplot as plt"
   ]
  },
  {
   "cell_type": "markdown",
   "metadata": {},
   "source": [
    "## Image handling in OpenCV\n",
    "\n",
    "### Opening an image\n",
    "The function used to open an image in opencv is `imread(image_path)`. Pass it the image path. Here it's \"_Car1.jpg_\", so we'll use that. Note that the image must be defined at the image path, else the function will return **None**.\n",
    "\n",
    "#### Important\n",
    "- The image you're importing using the `cv.imread` function must be in the same path as the script, basically it must be an accessible file physically stored in the same location as where you're python script is stored. If you import an image that doesn't exist, the `cv.imread` function returns None.\n",
    "\n",
    "If you're using an IDE other than jupyter notebook, the function `cv.imshow(window_name, image)` would display the image, (`window_name` is the name of the window to be displayed and `image` is an image array). But here, we'll use matplotlib's `imshow` function, which will view the image inside the notebook session itself. Now one thing to keep in mind is that OpenCV majorly deals with the BGR color format but matplotlib (which is used to here) deals with RGB images. Below is an image to show you how OpenCV deals with images as a 3D numpy array\n",
    "\n",
    "<img src=\"opencv_color_layers.png\">\n",
    "Matplotlib essentially deals with <font color=\"#ff0000\">RGB</font>, so we use the `cv.cvtColor` function.\n",
    "- [cv.imread](https://docs.opencv.org/3.0-beta/doc/py_tutorials/py_gui/py_image_display/py_image_display.html): Used to read images from disk.\n",
    "- [cv.cvtColor](https://opencv-python-tutroals.readthedocs.io/en/latest/py_tutorials/py_imgproc/py_colorspaces/py_colorspaces.html): Used to convert images from one format to another, basically changing colourspaces.\n",
    "- [matplotlib.pyplot.imshow](https://matplotlib.org/api/_as_gen/matplotlib.pyplot.imshow.html): To put an image on the currently active plot.\n",
    "- [matplotlib.pyplot.axis](https://matplotlib.org/api/_as_gen/matplotlib.pyplot.axis.html): To adjust the axis of the plot.\n",
    "- [matplotlib.pyplot.show](https://matplotlib.org/api/_as_gen/matplotlib.pyplot.show.html?highlight=show#matplotlib.pyplot.show): To view a plot."
   ]
  },
  {
   "cell_type": "code",
   "execution_count": null,
   "metadata": {},
   "outputs": [],
   "source": [
    "# Read image\n",
    "img = cv.imread(\"Car1.jpg\")\n",
    "# Convert it from BGR to RGB\n",
    "img = cv.cvtColor(img, cv.COLOR_BGR2RGB)\n",
    "\n",
    "# Plotting commands\n",
    "# Insert image in plot and name it \"Car image\"\n",
    "plt.imshow(img)\n",
    "plt.title(\"Car image\")\n",
    "# By default, axis is shown, turn it off\n",
    "plt.axis(\"off\")\n",
    "# View plot\n",
    "plt.show()\n",
    "\n",
    "# About the image dimensions\n",
    "print(\"The dimensions of the image are {dims}\".format(dims=img.shape))"
   ]
  },
  {
   "cell_type": "markdown",
   "metadata": {},
   "source": [
    "## Using a webcam\n",
    "To use a webcam, we use the command\n",
    "```python\n",
    "cv.VideoCapture(0)\n",
    "```\n",
    "The number passed to the function is to reference the camera index (starting from 0). I'm using the webcam attached to my laptop so it's 0, if I were to use an external webcam (it would be my second camera), I'd pass 1 instead of 0. The function `VideoCapture(camera_number)` is used to generate a camera number. You'll later see that the same function can be used to read video files as well, in that case, we use the path to video file isntead of the argument `camera_number`.\n",
    "Let's try some code to display live stream from a webcam.\n",
    "\n",
    "- [cv.VideoCapture](https://docs.opencv.org/3.0-beta/doc/py_tutorials/py_gui/py_video_display/py_video_display.html): Returns a camera/video handler."
   ]
  },
  {
   "cell_type": "code",
   "execution_count": null,
   "metadata": {},
   "outputs": [],
   "source": [
    "# Creating a camera object\n",
    "cam = cv.VideoCapture(0)"
   ]
  },
  {
   "cell_type": "markdown",
   "metadata": {},
   "source": [
    "## Viewing a webstream feed\n",
    "The following code is used to show the stream from a webcam connected to the system.\n",
    "The function `cam.read()` is used to read an image from the webamera. \n",
    "\n",
    "The function `cv.imshow(window_name, frame)` is used to show an image on a window, you have to pass it window name (`window_name`) and image (`frame`) to dsplay. Note that you don't need anything to do for cleaning up the things you put into a window, it's automatically updated with the new frame. Also, note that you might not be able to close the window while the video is being displayed (this is because it'll simply respawn everytime you close it), you'll have to stop updating the frame by pressing the key `q` inside the window. The instructions to close it are after this.\n",
    "\n",
    "The function `cv.waitKey()` is used to get a keyboard interrupt after the specified timeout (indefinite if 0 is passed) and return the key pressed. I'm using a 64 bit system, so we convert the returned value to a 64 bit format, hence the `& 0xff`.\n",
    "\n",
    "- [cam.isOpened](https://docs.opencv.org/3.0-beta/doc/py_tutorials/py_gui/py_video_display/py_video_display.html): Used to check if the camera stream (or video stream) is open or not.\n",
    "- cam.waitKey: Used to read a keystroke after a given timeout.\n",
    "- [cam.read](https://docs.opencv.org/3.0-beta/doc/py_tutorials/py_gui/py_video_display/py_video_display.html): Used to read a frame from the camera object. Returns you the status of operation and the returning frame.\n",
    "- [cv.imshow](https://docs.opencv.org/3.1.0/dc/d2e/tutorial_py_image_display.html): Viewing an image from an array."
   ]
  },
  {
   "cell_type": "code",
   "execution_count": null,
   "metadata": {
    "scrolled": true
   },
   "outputs": [],
   "source": [
    "# Run an indefinite loop (till the webcam resource is available)\n",
    "while cam.isOpened():\n",
    "    # Grab a frame from the webcam\n",
    "    ret, frame = cam.read()\n",
    "    # Check if webcam returned a frame, if not then continue\n",
    "    if not ret:\n",
    "        continue\n",
    "    # Display the frame in a window named 'Live feed'\n",
    "    cv.imshow('Live feed', frame)\n",
    "    \n",
    "    # If user presses 'q' inside the window, break out of the loop\n",
    "    key = cv.waitKey(1) & 0xFF\n",
    "    if key == ord('q'):\n",
    "        break\n",
    "print(\"Done\")"
   ]
  },
  {
   "cell_type": "markdown",
   "metadata": {},
   "source": [
    "But the window isn't gone yet. Of course there's the traditional way of closing it by clicking the close button (this time it won't respawn because you're no longer calling the `cv.imshow` function), but you might want to use code to do it. You can use any one of the following statements to close it.\n",
    "```python\n",
    "# Destroy a window named 'Live feed'\n",
    "cv.destroyWindow('Live feed')\n",
    "\n",
    "# Destroy all the windows open\n",
    "cv.destroyAllWindows()\n",
    "```\n",
    "Once you've done that, you might want to release the camera resources. You do that using the function `release()`. It's important that you release the resources, because no other program can use the camera resources if the camera is busy here."
   ]
  },
  {
   "cell_type": "code",
   "execution_count": null,
   "metadata": {},
   "outputs": [],
   "source": [
    "# Destroy all windows\n",
    "cv.destroyAllWindows()\n",
    "# OR\n",
    "# Release camera resources\n",
    "cam.release()"
   ]
  },
  {
   "cell_type": "markdown",
   "metadata": {},
   "source": [
    "## Try it on your own\n",
    "Try the following things on your own\n",
    "<input type=\"checkbox\" checked> Use `imshow` to show an image\n",
    "<input type=\"checkbox\"> Connect a webcam and use some other index, try and see what happens when you give an index out of the available ranges.\n",
    "<input type=\"checkbox\"> Try converting images to different formats (like HSV, grayscale, ...) and view the results"
   ]
  },
  {
   "cell_type": "markdown",
   "metadata": {},
   "source": [
    "Congratulations, you've finished the first tutorial on opencv.\n",
    "You can refer to their [documentation](https://docs.opencv.org/3.4.0/) for more info. \n"
   ]
  }
 ],
 "metadata": {
  "kernelspec": {
   "display_name": "Python 3",
   "language": "python",
   "name": "python3"
  },
  "language_info": {
   "codemirror_mode": {
    "name": "ipython",
    "version": 3
   },
   "file_extension": ".py",
   "mimetype": "text/x-python",
   "name": "python",
   "nbconvert_exporter": "python",
   "pygments_lexer": "ipython3",
   "version": "3.5.2"
  }
 },
 "nbformat": 4,
 "nbformat_minor": 2
}
