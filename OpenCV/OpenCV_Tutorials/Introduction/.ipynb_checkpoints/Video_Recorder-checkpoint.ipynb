{
 "cells": [
  {
   "cell_type": "markdown",
   "metadata": {},
   "source": [
    "# Video Recording using OpenCV\n",
    "Before we get started with this, it's suggested that you skim through the [startup guide](https://github.com/TheProjectsGuy/Blogger/blob/master/OpenCV/OpenCV_Tutorials/Introduction/Sample-OpenCV.ipynb) I've made so that we're all on the same platform.\n",
    "Let's build a video recorder using OpenCV. We will be able to adjust a good number of properties for it, so that it's customizable. \n",
    "\n",
    "Let's start with importing the library"
   ]
  },
  {
   "cell_type": "code",
   "execution_count": null,
   "metadata": {},
   "outputs": [],
   "source": [
    "# Import the cv2 library\n",
    "import cv2 as cv"
   ]
  },
  {
   "cell_type": "markdown",
   "metadata": {},
   "source": [
    "## Properties to be adjusted\n",
    "Every recorded video has some basic features like filename, FPS, size of frames and if it's in color or grayscale. We additionally have some more properties which you'll see below. The camera number is the index of the camera to be used (starting from 0).\n",
    "\n",
    "| Variable | Description |\n",
    "| ---- | ---- |\n",
    "| cam_no | Camera number |\n",
    "| dest_file_name | Name of the file to be saved (complete path with extension) |\n",
    "| fps | The FPS (frames per second) of the video file |\n",
    "| frame_size | The size (resolution) of the frames to be saved (width by height)<br> Make sure that it's of the same size as you're getting from the webcam|\n",
    "\n",
    "Let's make variables for all of them."
   ]
  },
  {
   "cell_type": "code",
   "execution_count": null,
   "metadata": {},
   "outputs": [],
   "source": [
    "# Variables for the program\n",
    "# Camera number\n",
    "cam_no = 1\n",
    "# File name (complete path with extension) where the video is to be stored\n",
    "dest_file_name = 'RecordedFile.avi'\n",
    "# FPS of our video file\n",
    "fps = 20.0\n",
    "# The size of our frame\n",
    "frame_size = (640, 480)"
   ]
  },
  {
   "cell_type": "markdown",
   "metadata": {},
   "source": [
    "## Recording and Video stream objects\n",
    "Now, we declare a few variables that'll help us get frames from the camera and help us write some video on the disk.\n",
    "- The *first* object is for the *video camera*, pretty straight forward\n",
    "- The *secong* object is for the video recorder to know some basic details about the format. It's called a **Four Character Code**, [fourcc](https://en.wikipedia.org/wiki/FourCC) in short. The various options are available [here](http://www.fourcc.org/codecs.php). Be careful about this choice, not all operating systems support all of them. A common one is XVID code (for MPEG-4) which is widely supported. We would normally pass it character by character, that is ('X', 'V', 'I', 'D'), but if we use the **\\*** operator in python, we can use (\\*'XVID') and it'll do the same thing.\n",
    "- The *third* object is the object that will *write the video* on disk. It requires the name of file, the foucc object, fps and frame_size. Keep in mind, every output stream requires a unique recorder object but they can share the fourcc object. That is, if you want to save to multiple places, you will need multiple video writing objects but only one fourcc object."
   ]
  },
  {
   "cell_type": "code",
   "execution_count": null,
   "metadata": {},
   "outputs": [],
   "source": [
    "# Objects declared\n",
    "# Camera object\n",
    "cam = cv.VideoCapture(cam_no)\n",
    "# FourCC object\n",
    "rec_fourcc = cv.VideoWriter_fourcc(*'XVID')\n",
    "# Recorder object\n",
    "rec = cv.VideoWriter(dest_file_name, rec_fourcc, fps, frame_size)"
   ]
  },
  {
   "cell_type": "markdown",
   "metadata": {},
   "source": [
    "## Record \n",
    "Now, let's write the code to record feed from the webcam specified earlier.\n",
    "\n",
    "In a loop\n",
    "- We'll get the frames from camera\n",
    "- Show them for preview\n",
    "- Write them to the file (and also keep a tally of the number of frames written)\n",
    "- If we get a `q` from keyboard, we break from the loop\n",
    "\n",
    "Keep in mind that the value passed to the `cv.waitKey` function is 1 and not 0, so that it resumes operations after a one millisecond timeout. This does **not** affect our FPS since the *VideoWriter* object takes care of the file that is saved has the specified FPS, so you needn't worry about the exact value."
   ]
  },
  {
   "cell_type": "code",
   "execution_count": null,
   "metadata": {},
   "outputs": [],
   "source": [
    "# Recording loop\n",
    "\n",
    "# To keep track of the frame number\n",
    "fno = 0\n",
    "# The loop\n",
    "while cam.isOpened():\n",
    "    # Get a frame from the camera\n",
    "    ret, frame = cam.read()\n",
    "    if not ret:   # If resource is not available or if we don't get frames, break out\n",
    "        break\n",
    "    # Preview frames\n",
    "    cv.imshow(\"Live Feed\", frame)\n",
    "    # Save the frame on disk in the video file\n",
    "    rec.write(frame)\n",
    "    fno += 1\n",
    "    # Keyboard entry\n",
    "    key = cv.waitKey(1) & 0xff\n",
    "    if key == ord('q'):\n",
    "        break"
   ]
  },
  {
   "cell_type": "markdown",
   "metadata": {},
   "source": [
    "## Release resources and cleanup\n",
    "As you already know, all these streams must be released. The *VideoWriter* object needs to be released so that we put a proper termination to the video file (else it may get corrupted). We also destroy any windows opened by OpenCV. We end by printing the number of frames we recorded."
   ]
  },
  {
   "cell_type": "code",
   "execution_count": null,
   "metadata": {},
   "outputs": [],
   "source": [
    "# Release camera resources\n",
    "cam.release()\n",
    "# Release video resources\n",
    "rec.release()\n",
    "# Destroy all windows created\n",
    "cv.destroyAllWindows()\n",
    "print(\"{num_frames} frames written to file \\\"{fname}\\\"\".format(num_frames=fno, fname=dest_file_name))"
   ]
  },
  {
   "cell_type": "markdown",
   "metadata": {},
   "source": [
    "## Try it on your own\n",
    "Try the following things on your own\n",
    "<input type=\"checkbox\"> Try giving an invalid directory as file name and see what happens\n",
    "<input type=\"checkbox\"> Experiment with different timeouts for `cv.waitKey` and different FPS\n",
    "<input type=\"checkbox\"> Connect a webcam and use some other index, try and see what happens when you give an index out of the available ranges.\n",
    "<input type=\"checkbox\"> Try converting images to different formats (like HSV, grayscale, ...) before saving them and then view the results\n",
    "<input type=\"checkbox\"> See what happens when you have a frame_size something other than the size of the frames you're writing to the file (Hint : OpenCV has a function to resize images, `cv.resize`. More information [here](https://docs.opencv.org/3.4.2/da/d6e/tutorial_py_geometric_transformations.html))\n",
    "<input type=\"checkbox\"> Apply some effects to the frames before writing them to the file. More information about this [here](https://docs.opencv.org/3.4.2/d3/df2/tutorial_py_basic_ops.html)"
   ]
  }
 ],
 "metadata": {
  "kernelspec": {
   "display_name": "Python 3",
   "language": "python",
   "name": "python3"
  },
  "language_info": {
   "codemirror_mode": {
    "name": "ipython",
    "version": 3
   },
   "file_extension": ".py",
   "mimetype": "text/x-python",
   "name": "python",
   "nbconvert_exporter": "python",
   "pygments_lexer": "ipython3",
   "version": "3.5.2"
  }
 },
 "nbformat": 4,
 "nbformat_minor": 2
}
