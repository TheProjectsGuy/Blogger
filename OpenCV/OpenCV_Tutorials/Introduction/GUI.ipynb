{
 "cells": [
  {
   "cell_type": "markdown",
   "metadata": {},
   "source": [
    "# Introduction\n",
    "Before we start, I suggest that you go through the previous [tutorial](Drawing.ipynb), so that we are all on the same page.\n",
    "\n",
    "Say you want to have your mouse pointer interact with a window in which OpenCV will put some graphics (image or video). OpenCV has functionality for *mouse pointer integratioin*. Additionally if you want to adjust some properties or set some parameters using a slider (*trackbar*, in OpenCV), OpenCV has functions for that as well. Let's explore both one by one.\n",
    "\n",
    "## Mouse Pointer Integration\n",
    "In OpenCV, the figures rely on something called an event callback. It's like a function that is called every time an event occurs. An event is basically any action performed by the mouse pointer in the graphical window, like moving the mouse pointer from location to another, clicking, scrolling, etc anywhere within the window. The function that takes care of all this is `cv.setMouseCallback`. Just pass it the window name and a function that must be called everytime an event occurs. The functions that is being called is called the *event handler*. An event handler must have the following parameters:\n",
    "> - **event**: This is basically the event that has occured.\n",
    "> - **x**: X value of the mouse pointer when the event occured\n",
    "> - **y**: Y value of the mouse pointer when the event occured\n",
    "> - **flags**: These are flags that the callback function sets\n",
    "> - **param**: These are additional parameters that you can call\n",
    "\n",
    "So let's first start with importing the libraries"
   ]
  },
  {
   "cell_type": "code",
   "execution_count": 1,
   "metadata": {},
   "outputs": [],
   "source": [
    "import cv2 as cv                        # OpenCV\n",
    "import numpy as np                      # For maths (in case we need)\n",
    "from matplotlib import pyplot as plt    # In case we need it"
   ]
  },
  {
   "cell_type": "markdown",
   "metadata": {},
   "source": [
    "Before we start with using and making the event handlers, let's first see what are the events the OpenCV has. You can either run the code below or check [this link](https://docs.opencv.org/3.4.2/d7/dfc/group__highgui.html#ga927593befdddc7e7013602bca9b079b0) out."
   ]
  },
  {
   "cell_type": "code",
   "execution_count": 2,
   "metadata": {},
   "outputs": [
    {
     "name": "stdout",
     "output_type": "stream",
     "text": [
      "['EVENT_FLAG_ALTKEY', 'EVENT_FLAG_CTRLKEY', 'EVENT_FLAG_LBUTTON', 'EVENT_FLAG_MBUTTON', 'EVENT_FLAG_RBUTTON', 'EVENT_FLAG_SHIFTKEY', 'EVENT_LBUTTONDBLCLK', 'EVENT_LBUTTONDOWN', 'EVENT_LBUTTONUP', 'EVENT_MBUTTONDBLCLK', 'EVENT_MBUTTONDOWN', 'EVENT_MBUTTONUP', 'EVENT_MOUSEHWHEEL', 'EVENT_MOUSEMOVE', 'EVENT_MOUSEWHEEL', 'EVENT_RBUTTONDBLCLK', 'EVENT_RBUTTONDOWN', 'EVENT_RBUTTONUP']\n"
     ]
    }
   ],
   "source": [
    "events = [i for i in dir(cv) if 'EVENT' in i]    # All the constants containing 'EVENT' in the OpenCV library\n",
    "print(events)"
   ]
  },
  {
   "cell_type": "markdown",
   "metadata": {},
   "source": [
    "Now that we know what are the events associated with the mouse pointer, let's go ahead and write our own event handler. <br>\n",
    "> For this application, we'll have a red circle follow the mouse pointer over the image window.\n",
    "\n",
    "- [cv.setMouseCallback](https://docs.opencv.org/3.4.2/d7/dfc/group__highgui.html#ga89e7806b0a616f6f1d502bd8c183ad3e): Used to attach a mouse callback (event handler)."
   ]
  },
  {
   "cell_type": "markdown",
   "metadata": {},
   "source": [
    "Let's start with defining a background image. Again, just like in the previous tutorial, this can be any image that you want in the window (an image or a frame from a video)."
   ]
  },
  {
   "cell_type": "code",
   "execution_count": 3,
   "metadata": {},
   "outputs": [],
   "source": [
    "# Defining the white background (can be any image)\n",
    "img = np.ones((480, 640, 3), dtype=np.uint8) * 255\n",
    "# Show the image and close the window on pressing a key\n",
    "cv.imshow(\"White background\", img)\n",
    "cv.waitKey(0)\n",
    "cv.destroyAllWindows()\n",
    "# Initial center of the circle\n",
    "center = (320, 240)\n",
    "radius = 50"
   ]
  },
  {
   "cell_type": "markdown",
   "metadata": {},
   "source": [
    "Time to write the actual mouse handler function that'll just update the center point whenever mouse pointer is moved. Another important thing to remember is that OpenCV won't know which window you're going to attach to the mouse pointer callback (because until now, the window used to be created whenever the `cv.imshow` was called). We need to create the window before attaching the mouse pointer callback. The function we use for that is `cv.namedWindow`. Just pass it the name of the window and it just makes an empty window with that name.\n",
    "\n",
    "Another thing that we need to remember is that the value of center will be changing always, so we have to keep updating the drawing, a simple way of doing this is using a while loop."
   ]
  },
  {
   "cell_type": "code",
   "execution_count": 7,
   "metadata": {},
   "outputs": [
    {
     "name": "stdout",
     "output_type": "stream",
     "text": [
      "Attaching mouse handler...\n",
      "Mouse handler attached...\n",
      "Press 'q' or ESC to close the window\n",
      "Press enter to proceed\n"
     ]
    }
   ],
   "source": [
    "# Creating the event handler function\n",
    "def mouseHandler(event, x, y, flags, params):\n",
    "    global center  # So that we use the global variable 'center'\n",
    "    if event == cv.EVENT_MOUSEMOVE:\n",
    "        center = (x, y)    # Set the center to a new value\n",
    "print(\"Attaching mouse handler...\")\n",
    "# Creating a window\n",
    "cv.namedWindow(\"Mouse Tracker\")\n",
    "# Attaching the callback\n",
    "cv.setMouseCallback(\"Mouse Tracker\", mouseHandler)\n",
    "print(\"Mouse handler attached...\")\n",
    "print(\"Press 'q' or ESC to close the window\")\n",
    "input(\"Press enter to proceed\")\n",
    "# Draw the circle on the image\n",
    "while True:\n",
    "    img2 = cv.circle(img.copy(), center, radius, (0, 0, 255), thickness=2)\n",
    "    # We want to keep updating img2, so keep going on\n",
    "    cv.imshow(\"Mouse Tracker\", img2)\n",
    "    key = cv.waitKey(1) & 0xFF\n",
    "    # Press 'q' or ESC to break out of the loop and close the window\n",
    "    if key == ord('q') or key == 27:\n",
    "        break\n",
    "cv.destroyWindow(\"Mouse Tracker\")"
   ]
  },
  {
   "cell_type": "markdown",
   "metadata": {},
   "source": []
  }
 ],
 "metadata": {
  "kernelspec": {
   "display_name": "Python 3",
   "language": "python",
   "name": "python3"
  },
  "language_info": {
   "codemirror_mode": {
    "name": "ipython",
    "version": 3
   },
   "file_extension": ".py",
   "mimetype": "text/x-python",
   "name": "python",
   "nbconvert_exporter": "python",
   "pygments_lexer": "ipython3",
   "version": "3.5.2"
  }
 },
 "nbformat": 4,
 "nbformat_minor": 2
}
